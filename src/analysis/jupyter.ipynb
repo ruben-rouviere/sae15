{
 "cells": [
  {
   "cell_type": "code",
   "execution_count": null,
   "metadata": {},
   "outputs": [],
   "source": [
    "# Graphe de l'ensemble des parkings le 16/01 à 8h et 20h vs 16h"
   ]
  },
  {
   "attachments": {},
   "cell_type": "markdown",
   "metadata": {},
   "source": [
    "# Parkings"
   ]
  },
  {
   "attachments": {},
   "cell_type": "markdown",
   "metadata": {},
   "source": [
    "## Corrélation avec les heures de la journée:\n",
    "Le premiers graphique reprsésente en pourcentage l'occupation des parkings de Montpellierà le lundi 16 janvier à 8h, l'autre à 14h. On constate que le premier graphique affiche des pourcentages plus élevés que le deuxième. On en déduit que les trajets en voitures sont plus souvent utilisés lors des heures de pointe que les heures creuses. Ce rendu s'explique par le fait que chaque salariés doivent aller travailler le matin et rentrer du travail le soir, contrairement à l'après-midi où le trajet en voiture n'est pas solicité."
   ]
  },
  {
   "attachments": {},
   "cell_type": "markdown",
   "metadata": {},
   "source": [
    "(graph d'un parking proche  )"
   ]
  },
  {
   "attachments": {},
   "cell_type": "markdown",
   "metadata": {},
   "source": [
    "## Corrélation avec les jours de la semaine:\n",
    "O'occupation d'un parking peut varier également en fonction des jours de la semaine. Il est probable que l'occupation soit plus élevée pendant les jours de la semaine ouvrables et plus faible pendant les week-ends."
   ]
  }
 ],
 "metadata": {
  "kernelspec": {
   "display_name": "Python 3",
   "language": "python",
   "name": "python3"
  },
  "language_info": {
   "codemirror_mode": {
    "name": "ipython",
    "version": 3
   },
   "file_extension": ".py",
   "mimetype": "text/x-python",
   "name": "python",
   "nbconvert_exporter": "python",
   "pygments_lexer": "ipython3",
   "version": "3.10.9"
  },
  "orig_nbformat": 4,
  "vscode": {
   "interpreter": {
    "hash": "3cacf130a2378b5fe50d3fcc80acdbf9d8811a754b9d4e5ed614ce944c13da15"
   }
  }
 },
 "nbformat": 4,
 "nbformat_minor": 2
}
